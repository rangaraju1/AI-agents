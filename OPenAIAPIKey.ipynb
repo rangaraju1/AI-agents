{
  "nbformat": 4,
  "nbformat_minor": 0,
  "metadata": {
    "colab": {
      "provenance": [],
      "authorship_tag": "ABX9TyOfjH76kAs1v7jCoRH7WFHy",
      "include_colab_link": true
    },
    "kernelspec": {
      "name": "python3",
      "display_name": "Python 3"
    },
    "language_info": {
      "name": "python"
    }
  },
  "cells": [
    {
      "cell_type": "markdown",
      "metadata": {
        "id": "view-in-github",
        "colab_type": "text"
      },
      "source": [
        "<a href=\"https://colab.research.google.com/github/rangaraju1/AI-agents/blob/main/OPenAIAPIKey.ipynb\" target=\"_parent\"><img src=\"https://colab.research.google.com/assets/colab-badge.svg\" alt=\"Open In Colab\"/></a>"
      ]
    },
    {
      "cell_type": "code",
      "execution_count": 1,
      "metadata": {
        "id": "w9Rn92Z6gCSd"
      },
      "outputs": [],
      "source": [
        "from dotenv import load_dotenv"
      ]
    },
    {
      "cell_type": "code",
      "source": [
        "from google.colab import drive\n",
        "\n",
        "# Mount Google Drive\n",
        "drive.mount('/content/drive')\n"
      ],
      "metadata": {
        "colab": {
          "base_uri": "https://localhost:8080/"
        },
        "id": "4kbIW1QKhF2r",
        "outputId": "61cd12ff-c18c-4e43-b4a1-20b71658738d"
      },
      "execution_count": 5,
      "outputs": [
        {
          "output_type": "stream",
          "name": "stdout",
          "text": [
            "Mounted at /content/drive\n"
          ]
        }
      ]
    },
    {
      "cell_type": "code",
      "source": [
        "load_dotenv('/content/drive/MyDrive/.env', override=True)\n"
      ],
      "metadata": {
        "colab": {
          "base_uri": "https://localhost:8080/"
        },
        "id": "zy4CARhogUcs",
        "outputId": "163e7b98-5fc3-4da2-9962-cb7217a3e496"
      },
      "execution_count": 8,
      "outputs": [
        {
          "output_type": "execute_result",
          "data": {
            "text/plain": [
              "True"
            ]
          },
          "metadata": {},
          "execution_count": 8
        }
      ]
    },
    {
      "cell_type": "code",
      "source": [
        "# Check the key - if you're not using OpenAI, check whichever key you're using! Ollama doesn't need a key.\n",
        "\n",
        "import os\n",
        "openai_api_key = os.getenv('OPENAI_API_KEY')\n",
        "\n",
        "if openai_api_key:\n",
        "    print(f\"OpenAI API Key exists and begins {openai_api_key[:8]}\")\n",
        "else:\n",
        "    print(\"OpenAI API Key not set - please head to the troubleshooting guide in the setup folder\")"
      ],
      "metadata": {
        "colab": {
          "base_uri": "https://localhost:8080/"
        },
        "id": "SQOTd7k2iaP9",
        "outputId": "45736d7a-08ed-4ef8-9d6d-ba1e39e45eb1"
      },
      "execution_count": 9,
      "outputs": [
        {
          "output_type": "stream",
          "name": "stdout",
          "text": [
            "OpenAI API Key exists and begins sk-proj-\n"
          ]
        }
      ]
    },
    {
      "cell_type": "code",
      "source": [
        "# And now - the all important import statement\n",
        "\n",
        "\n",
        "from openai import OpenAI"
      ],
      "metadata": {
        "id": "GSzTAUZnil0z"
      },
      "execution_count": 10,
      "outputs": []
    },
    {
      "cell_type": "code",
      "source": [
        "# And now we'll create an instance of the OpenAI class\n",
        "\n",
        "openai = OpenAI()"
      ],
      "metadata": {
        "id": "qnlYfbXfiw8F"
      },
      "execution_count": 11,
      "outputs": []
    },
    {
      "cell_type": "code",
      "source": [
        "# Create a list of messages in the familiar OpenAI format\n",
        "\n",
        "messages = [{\"role\": \"user\", \"content\": \"What is 2+2?\"}]"
      ],
      "metadata": {
        "id": "Ub3xkxESi4FT"
      },
      "execution_count": 12,
      "outputs": []
    },
    {
      "cell_type": "code",
      "source": [
        "# And now call it! Any problems, head to the troubleshooting guide\n",
        "# This uses GPT 4.1 nano, the incredibly cheap model\n",
        "\n",
        "response = openai.chat.completions.create(\n",
        "    model=\"gpt-4.1-nano\",\n",
        "    messages=messages\n",
        ")\n",
        "\n",
        "print(response.choices[0].message.content)"
      ],
      "metadata": {
        "colab": {
          "base_uri": "https://localhost:8080/"
        },
        "id": "mnapInnGjCNh",
        "outputId": "53b7ff78-6e0c-49bc-a90e-ba890a2f2f12"
      },
      "execution_count": 13,
      "outputs": [
        {
          "output_type": "stream",
          "name": "stdout",
          "text": [
            "2 + 2 equals 4.\n"
          ]
        }
      ]
    },
    {
      "cell_type": "code",
      "source": [
        "# And now - let's ask for a question:\n",
        "\n",
        "question = \"Please propose a hard, challenging question to assess someone's IQ. Respond only with the question.\"\n",
        "messages = [{\"role\": \"user\", \"content\": question}]"
      ],
      "metadata": {
        "id": "0Huh5C5kjVdQ"
      },
      "execution_count": 14,
      "outputs": []
    },
    {
      "cell_type": "code",
      "source": [
        "# ask it - this uses GPT 4.1 mini, still cheap but more powerful than nano\n",
        "\n",
        "response = openai.chat.completions.create(\n",
        "    model=\"gpt-4.1-mini\",\n",
        "    messages=messages\n",
        ")\n",
        "\n",
        "question = response.choices[0].message.content\n",
        "\n",
        "print(question)"
      ],
      "metadata": {
        "colab": {
          "base_uri": "https://localhost:8080/"
        },
        "id": "L6qV2twHjgks",
        "outputId": "cbf28f6f-5c73-4538-a054-a3dd5a8d1629"
      },
      "execution_count": 15,
      "outputs": [
        {
          "output_type": "stream",
          "name": "stdout",
          "text": [
            "If you rearrange the letters \"CIFAIPC\" you would have the name of a(n):  \n",
            "A) Ocean  \n",
            "B) Country  \n",
            "C) City  \n",
            "D) Animal\n"
          ]
        }
      ]
    },
    {
      "cell_type": "code",
      "source": [
        "# form a new messages list\n",
        "messages = [{\"role\": \"user\", \"content\": question}]"
      ],
      "metadata": {
        "id": "kB-kRmDVkRMJ"
      },
      "execution_count": 16,
      "outputs": []
    },
    {
      "cell_type": "code",
      "source": [
        "# Ask it again\n",
        "\n",
        "response = openai.chat.completions.create(\n",
        "    model=\"gpt-4.1-mini\",\n",
        "    messages=messages\n",
        ")\n",
        "\n",
        "answer = response.choices[0].message.content\n",
        "print(answer)"
      ],
      "metadata": {
        "colab": {
          "base_uri": "https://localhost:8080/"
        },
        "id": "Ne7rQtWvkZf7",
        "outputId": "6fc2edc5-0777-48cb-9222-e041613cd4d4"
      },
      "execution_count": 17,
      "outputs": [
        {
          "output_type": "stream",
          "name": "stdout",
          "text": [
            "Let's try to rearrange the letters \"CIFAIPC\".\n",
            "\n",
            "The letters are: C, I, F, A, I, P, C\n",
            "\n",
            "Try to find a meaningful word from these letters.\n",
            "\n",
            "Rearranging \"CIFAIPC\" gives **PACIFIC**.\n",
            "\n",
            "The word \"Pacific\" is the name of an **Ocean**.\n",
            "\n",
            "So the correct answer is:\n",
            "\n",
            "**A) Ocean**\n"
          ]
        }
      ]
    },
    {
      "cell_type": "code",
      "source": [
        "from IPython.display import display, Markdown\n",
        "\n",
        "display(Markdown(answer))"
      ],
      "metadata": {
        "colab": {
          "base_uri": "https://localhost:8080/",
          "height": 186
        },
        "id": "qSbKL2Jbki26",
        "outputId": "1e5caf1e-a282-4dc4-e001-969b45328dea"
      },
      "execution_count": 18,
      "outputs": [
        {
          "output_type": "display_data",
          "data": {
            "text/plain": [
              "<IPython.core.display.Markdown object>"
            ],
            "text/markdown": "Let's try to rearrange the letters \"CIFAIPC\".\n\nThe letters are: C, I, F, A, I, P, C\n\nTry to find a meaningful word from these letters.\n\nRearranging \"CIFAIPC\" gives **PACIFIC**.\n\nThe word \"Pacific\" is the name of an **Ocean**.\n\nSo the correct answer is:\n\n**A) Ocean**"
          },
          "metadata": {}
        }
      ]
    }
  ]
}